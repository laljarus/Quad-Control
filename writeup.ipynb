{
 "cells": [
  {
   "cell_type": "markdown",
   "metadata": {},
   "source": [
    "# Control of a 3D Quadcopter\n",
    "\n",
    "The aim of this project is to develop a controller for a 3D quadcopter. The [starter Code](https://github.com/udacity/FCND-Controls-CPP) of the project and the project [rubics](https://review.udacity.com/#!/rubrics/1643/view) are given in the links. This writeup of the project explains how each point in the project rubic is addressed in the project.\n",
    "\n",
    "## Control Architecture\n",
    "\n"
   ]
  },
  {
   "cell_type": "code",
   "execution_count": null,
   "metadata": {},
   "outputs": [],
   "source": []
  }
 ],
 "metadata": {
  "kernelspec": {
   "display_name": "Python 3",
   "language": "python",
   "name": "python3"
  },
  "language_info": {
   "codemirror_mode": {
    "name": "ipython",
    "version": 3
   },
   "file_extension": ".py",
   "mimetype": "text/x-python",
   "name": "python",
   "nbconvert_exporter": "python",
   "pygments_lexer": "ipython3",
   "version": "3.6.2"
  }
 },
 "nbformat": 4,
 "nbformat_minor": 2
}
